{
 "cells": [
  {
   "cell_type": "code",
   "execution_count": 107,
   "metadata": {},
   "outputs": [],
   "source": [
    "# for the sentence John saw Mary\n",
    "# scores taken from the lab handout\n",
    "\n",
    "import numpy as np\n",
    "\n",
    "adjacency_matrix = np.array([\n",
    "    [-np.Inf, 9, 10, 9],\n",
    "    [-np.Inf, -np.Inf, 20, 3],\n",
    "    [-np.Inf, 30, -np.Inf, 30],\n",
    "    [-np.Inf, 11, 0, -np.Inf]\n",
    "]) # type: ignore"
   ]
  },
  {
   "cell_type": "code",
   "execution_count": 108,
   "metadata": {},
   "outputs": [
    {
     "data": {
      "text/plain": [
       "array([ 10.,  20., -inf,   0.])"
      ]
     },
     "execution_count": 108,
     "metadata": {},
     "output_type": "execute_result"
    }
   ],
   "source": [
    "# col 2 \n",
    "adjacency_matrix[:, 2]"
   ]
  },
  {
   "cell_type": "code",
   "execution_count": 109,
   "metadata": {},
   "outputs": [],
   "source": [
    "from typing import List\n",
    "\n",
    "# construct graph\n",
    "class Vertex:\n",
    "    def __init__(self, node_id: int) -> None:\n",
    "        self.node_id = node_id\n",
    "        \n",
    "        # index -> edge weight mapping\n",
    "        self.incoming = dict()\n",
    "        self.outgoing = dict()\n",
    "        \n",
    "    def __str__(self) -> str:\n",
    "        return str(self.__dict__)\n",
    "        \n",
    "class Graph:\n",
    "    def __init__(self) -> None:\n",
    "        self.nodes: List[Vertex] = list()\n",
    "        \n",
    "    def __str__(self) -> str:\n",
    "        return str(self.nodes)"
   ]
  },
  {
   "cell_type": "code",
   "execution_count": 114,
   "metadata": {},
   "outputs": [],
   "source": [
    "from typing import Dict\n",
    "\n",
    "\n",
    "def find_incoming(node_id: int, matrix: np.ndarray) -> Dict:\n",
    "    inc = dict()\n",
    "    incoming = matrix[:, node_id]\n",
    "    for i in range(incoming.shape[0]):\n",
    "        if incoming[i] != -np.Inf:\n",
    "            inc[i] = incoming[i]\n",
    "    \n",
    "    return inc\n",
    "\n",
    "\n",
    "def find_outgoing(node_id: int, matrix: np.ndarray) -> Dict:\n",
    "    out = dict()\n",
    "    outgoing = matrix[node_id, :]\n",
    "    for i in range(matrix.shape[0]):\n",
    "        if outgoing[i] != -np.Inf:\n",
    "            out[i] = outgoing[i]\n",
    "            \n",
    "    return out    \n",
    "\n",
    "def construct_graph(matrix: np.ndarray) -> Graph:\n",
    "    graph = Graph()\n",
    "    \n",
    "    \n",
    "    # square matrix, so shape index doesn't matter\n",
    "    for node_id in range(matrix.shape[0]):        \n",
    "        v = Vertex(node_id)\n",
    "        v.incoming = find_incoming(node_id, matrix)\n",
    "        v.outgoing = find_outgoing(node_id, matrix)\n",
    "        \n",
    "        graph.nodes.append(v)\n",
    "        \n",
    "    \n",
    "    return graph\n",
    "\n",
    "# for node in graph.nodes:\n",
    "#     print(node)"
   ]
  },
  {
   "cell_type": "code",
   "execution_count": 111,
   "metadata": {},
   "outputs": [],
   "source": [
    "def has_cycle(node1: Vertex, node2: Vertex) -> bool:\n",
    "    if node1.node_id in node2.incoming.keys() and node2.node_id in node1.incoming.keys():\n",
    "        return True\n",
    "    else:\n",
    "        return False\n",
    "    \n",
    "    \n",
    "assert has_cycle(graph.nodes[1], graph.nodes[2])"
   ]
  },
  {
   "cell_type": "code",
   "execution_count": 116,
   "metadata": {},
   "outputs": [],
   "source": [
    "def contract_cycle(cycle: Graph, graph: Graph):\n",
    "    cycle_node_ids = [node.node_id for node in cycle.nodes]\n",
    "    # print(\"nodes in cyle \", cycle_node_ids)\n",
    "    \n",
    "    \n",
    "    # for outgoing nodes from the cycle\n",
    "    max_outgoing_weight = -np.Inf\n",
    "    max_outgoing_id = -np.Inf\n",
    "    \n",
    "                    \n",
    "                    \n",
    "    # for incoming nodes to the cycle\n",
    "    max_incoming_id = -np.Inf\n",
    "    max_incoming_weight = -np.Inf\n",
    "    \n",
    "    for i, c_node in enumerate(cycle.nodes):\n",
    "        for j, g_node in enumerate(graph.nodes):\n",
    "            if j in cycle_node_ids:\n",
    "                continue\n",
    "            \n",
    "            # check for outgoing\n",
    "            if c_node.node_id in g_node.incoming.keys():\n",
    "                # we have a match\n",
    "                if g_node.outgoing[c_node.node_id] > max_outgoing_weight:\n",
    "                    max_outgoing_weight = g_node.outgoing[c_node.node_id]\n",
    "                    max_outgoing_id = g_node.node_id\n",
    "            \n",
    "            # incoming\n",
    "            if c_node.node_id in g_node.outgoing.keys():\n",
    "                t = g_node.outgoing[c_node.node_id] + cycle.nodes[(i + 1) % 2].incoming[c_node.node_id]\n",
    "                if t > max_incoming_weight:\n",
    "                    max_incoming_weight = t\n",
    "                    max_incoming_id = g_node.node_id\n",
    "    \n",
    "    \n",
    "            \n",
    "                    \n",
    "    # print(\"max out  from cycle\", max_outgoing_id)\n",
    "    print(\"max in to cycle \", max_incoming_id)"
   ]
  },
  {
   "cell_type": "code",
   "execution_count": 115,
   "metadata": {},
   "outputs": [
    {
     "name": "stdout",
     "output_type": "stream",
     "text": [
      "max in to cycle  0\n",
      "max in to cycle  0\n"
     ]
    }
   ],
   "source": [
    "def cle(graph: Graph):\n",
    "    # ignore node 0, since ROOT\n",
    "    for node in graph.nodes[1:]:\n",
    "        # find max incoming node id\n",
    "        incoming = node.incoming\n",
    "        max_node_id = max(incoming, key=incoming.get) # type: ignore\n",
    "        max_node_weight = max(incoming.values())\n",
    "        max_node = graph.nodes[max_node_id]\n",
    "        \n",
    "        # update\n",
    "        graph.nodes[node.node_id].incoming = { max_node_id: max_node_weight } \n",
    "        \n",
    "        # check for cycle\n",
    "        if (has_cycle(node, max_node)):\n",
    "            # contract\n",
    "            cycle = Graph()\n",
    "            cycle.nodes = [node, max_node]\n",
    "            \n",
    "            contract_cycle(cycle, graph)\n",
    "            \n",
    "            # cle\n",
    "            pass\n",
    "        else:\n",
    "            # return \n",
    "            pass\n",
    "\n",
    "\n",
    "graph = construct_graph(adjacency_matrix)\n",
    "cle(graph)"
   ]
  },
  {
   "cell_type": "code",
   "execution_count": null,
   "metadata": {},
   "outputs": [],
   "source": []
  }
 ],
 "metadata": {
  "kernelspec": {
   "display_name": "parser",
   "language": "python",
   "name": "python3"
  },
  "language_info": {
   "codemirror_mode": {
    "name": "ipython",
    "version": 3
   },
   "file_extension": ".py",
   "mimetype": "text/x-python",
   "name": "python",
   "nbconvert_exporter": "python",
   "pygments_lexer": "ipython3",
   "version": "3.10.9"
  },
  "orig_nbformat": 4,
  "vscode": {
   "interpreter": {
    "hash": "4d2332b9d661e4433a20afa542008e0f496386f275125b0df92be84e7c01d576"
   }
  }
 },
 "nbformat": 4,
 "nbformat_minor": 2
}
