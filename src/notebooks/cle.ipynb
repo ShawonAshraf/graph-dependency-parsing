{
 "cells": [
  {
   "cell_type": "code",
   "execution_count": 1,
   "metadata": {},
   "outputs": [],
   "source": [
    "# for the sentence John saw Mary\n",
    "\n",
    "import numpy as np\n",
    "\n",
    "adjacency_matrix = np.array([\n",
    "    [-np.Inf, 9, 10, 9],\n",
    "    [-np.Inf, -np.Inf, 20, 3],\n",
    "    [-np.Inf, 30, -np.Inf, 30],\n",
    "    [-np.Inf, 11, 0, -np.Inf]\n",
    "]) # type: ignore"
   ]
  },
  {
   "cell_type": "code",
   "execution_count": 16,
   "metadata": {},
   "outputs": [
    {
     "data": {
      "text/plain": [
       "array([ 10.,  20., -inf,   0.])"
      ]
     },
     "execution_count": 16,
     "metadata": {},
     "output_type": "execute_result"
    }
   ],
   "source": [
    "# col 2 \n",
    "adjacency_matrix[:, 2]"
   ]
  },
  {
   "cell_type": "code",
   "execution_count": 17,
   "metadata": {},
   "outputs": [],
   "source": [
    "from typing import List\n",
    "\n",
    "# construct graph\n",
    "class Vertex:\n",
    "    def __init__(self, node_id: int) -> None:\n",
    "        self.node_id = node_id\n",
    "        \n",
    "        # index -> edge weight mapping\n",
    "        self.incoming = dict()\n",
    "        self.outgoing = dict()\n",
    "        \n",
    "    def __str__(self) -> str:\n",
    "        return str(self.__dict__)\n",
    "        \n",
    "class Graph:\n",
    "    def __init__(self) -> None:\n",
    "        self.nodes: List[Vertex] = list()"
   ]
  },
  {
   "cell_type": "code",
   "execution_count": 19,
   "metadata": {},
   "outputs": [
    {
     "name": "stdout",
     "output_type": "stream",
     "text": [
      "{}\n",
      "{1: 9.0, 2: 10.0, 3: 9.0}\n",
      "\n",
      "{0: 9.0, 2: 30.0, 3: 11.0}\n",
      "{2: 20.0, 3: 3.0}\n",
      "\n",
      "{0: 10.0, 1: 20.0, 3: 0.0}\n",
      "{1: 30.0, 3: 30.0}\n",
      "\n",
      "{0: 9.0, 1: 3.0, 2: 30.0}\n",
      "{1: 11.0, 2: 0.0}\n",
      "\n"
     ]
    },
    {
     "data": {
      "text/plain": [
       "<__main__.Graph at 0x7facc8744a60>"
      ]
     },
     "execution_count": 19,
     "metadata": {},
     "output_type": "execute_result"
    }
   ],
   "source": [
    "def find_incoming(node_id: int, matrix: np.ndarray):\n",
    "    inc = dict()\n",
    "    incoming = matrix[:, node_id]\n",
    "    for i in range(incoming.shape[0]):\n",
    "        if incoming[i] != -np.Inf:\n",
    "            inc[i] = incoming[i]\n",
    "    \n",
    "    return inc\n",
    "\n",
    "\n",
    "def find_outgoing(node_id: int, matrix: np.ndarray):\n",
    "    out = dict()\n",
    "    outgoing = matrix[node_id, :]\n",
    "    for i in range(matrix.shape[0]):\n",
    "        if outgoing[i] != -np.Inf:\n",
    "            out[i] = outgoing[i]\n",
    "            \n",
    "    return out    \n",
    "\n",
    "def construct_graph(matrix: np.ndarray) -> Graph:\n",
    "    graph = Graph()\n",
    "    \n",
    "    node_list: List[Vertex] = list()\n",
    "    \n",
    "    # square matrix, so shape index doesn't matter\n",
    "    for node_id in range(matrix.shape[0]):        \n",
    "        v = Vertex(node_id)\n",
    "        v.incoming = find_incoming(node_id, matrix)\n",
    "        v.outgoing = find_outgoing(node_id, matrix)\n",
    "        \n",
    "        print(v)\n",
    "        # print(v.outgoing)\n",
    "        print()\n",
    "        \n",
    "        \n",
    "    \n",
    "    return graph\n",
    "\n",
    "construct_graph(adjacency_matrix)"
   ]
  },
  {
   "cell_type": "code",
   "execution_count": null,
   "metadata": {},
   "outputs": [],
   "source": [
    "def find_cycle(node, mat):\n",
    "    pass\n"
   ]
  },
  {
   "cell_type": "code",
   "execution_count": null,
   "metadata": {},
   "outputs": [],
   "source": [
    "def contract_cycle(mat):\n",
    "    pass"
   ]
  },
  {
   "cell_type": "code",
   "execution_count": null,
   "metadata": {},
   "outputs": [],
   "source": [
    "def cle(mat: np.ndarray):\n",
    "    # # 0 is ROOT and we don't need to do incoming for ROOT\n",
    "    # for col in range(1, mat.shape[1]):\n",
    "    #     # get the max index for each column\n",
    "    #     # which is getting the incoming node with max weight\n",
    "    #     # rows are incoming to column\n",
    "    #     current_node = col\n",
    "        \n",
    "    #     if current_node == -np.Inf:\n",
    "    #         continue\n",
    "        \n",
    "    #     # max_incoming = np.max(mat[col]) \n",
    "    #     max_incoming_idx = np.argmax(mat.T[col], axis=0)\n",
    "    #     # look for cycle\n",
    "    #     if mat[max_incoming_idx][col] != -np.Inf:\n",
    "    #         # has a cycle\n",
    "    #         print(\"ayeee cycle\")\n",
    "    #         #contract\n",
    "    \n",
    "    pass\n",
    "\n",
    "                \n",
    "cle(adjacency_matrix)"
   ]
  },
  {
   "cell_type": "code",
   "execution_count": null,
   "metadata": {},
   "outputs": [],
   "source": []
  }
 ],
 "metadata": {
  "kernelspec": {
   "display_name": "parser",
   "language": "python",
   "name": "python3"
  },
  "language_info": {
   "codemirror_mode": {
    "name": "ipython",
    "version": 3
   },
   "file_extension": ".py",
   "mimetype": "text/x-python",
   "name": "python",
   "nbconvert_exporter": "python",
   "pygments_lexer": "ipython3",
   "version": "3.10.9"
  },
  "orig_nbformat": 4,
  "vscode": {
   "interpreter": {
    "hash": "4d2332b9d661e4433a20afa542008e0f496386f275125b0df92be84e7c01d576"
   }
  }
 },
 "nbformat": 4,
 "nbformat_minor": 2
}
